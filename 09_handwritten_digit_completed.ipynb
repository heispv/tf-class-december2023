{
  "nbformat": 4,
  "nbformat_minor": 0,
  "metadata": {
    "colab": {
      "provenance": [],
      "authorship_tag": "ABX9TyNne5amCcNxc6MLTQrYuO61",
      "include_colab_link": true
    },
    "kernelspec": {
      "name": "python3",
      "display_name": "Python 3"
    },
    "language_info": {
      "name": "python"
    }
  },
  "cells": [
    {
      "cell_type": "markdown",
      "metadata": {
        "id": "view-in-github",
        "colab_type": "text"
      },
      "source": [
        "<a href=\"https://colab.research.google.com/github/heispv/tf-class-december2023/blob/master/09_handwritten_digit_completed.ipynb\" target=\"_parent\"><img src=\"https://colab.research.google.com/assets/colab-badge.svg\" alt=\"Open In Colab\"/></a>"
      ]
    },
    {
      "cell_type": "code",
      "source": [
        "import tensorflow as tf\n",
        "import keras\n",
        "import numpy as np\n",
        "import matplotlib.pyplot as plt\n",
        "import random"
      ],
      "metadata": {
        "id": "0PjFp6Hhzrhy"
      },
      "execution_count": 1,
      "outputs": []
    },
    {
      "cell_type": "markdown",
      "source": [
        "# Data ingestion"
      ],
      "metadata": {
        "id": "033hfLEBAgFb"
      }
    },
    {
      "cell_type": "code",
      "execution_count": 2,
      "metadata": {
        "colab": {
          "base_uri": "https://localhost:8080/"
        },
        "id": "a9DfCuCWzgXd",
        "outputId": "2f56d5d5-cd42-4581-cd8e-0d8c712f2d11"
      },
      "outputs": [
        {
          "output_type": "stream",
          "name": "stdout",
          "text": [
            "Downloading data from https://storage.googleapis.com/tensorflow/tf-keras-datasets/mnist.npz\n",
            "11490434/11490434 [==============================] - 0s 0us/step\n"
          ]
        }
      ],
      "source": [
        "(x_train, y_train), (x_test, y_test) = keras.datasets.mnist.load_data()\n",
        "assert x_train.shape == (60000, 28, 28)\n",
        "assert x_test.shape == (10000, 28, 28)\n",
        "assert y_train.shape == (60000,)\n",
        "assert y_test.shape == (10000,)"
      ]
    },
    {
      "cell_type": "code",
      "source": [
        "x_train.shape"
      ],
      "metadata": {
        "colab": {
          "base_uri": "https://localhost:8080/"
        },
        "id": "211ZKm9B1_sc",
        "outputId": "b847569f-e75b-43b9-a473-2b5720653369"
      },
      "execution_count": 3,
      "outputs": [
        {
          "output_type": "execute_result",
          "data": {
            "text/plain": [
              "(60000, 28, 28)"
            ]
          },
          "metadata": {},
          "execution_count": 3
        }
      ]
    },
    {
      "cell_type": "markdown",
      "source": [
        "# Data visualization"
      ],
      "metadata": {
        "id": "8CbTqZJWAjyv"
      }
    },
    {
      "cell_type": "code",
      "source": [
        "def ax_shansi(x, y):\n",
        "    max_number = x.shape[0]\n",
        "    i = np.random.randint(0, max_number)\n",
        "\n",
        "    plt.figure(figsize=(3, 3))\n",
        "    plt.imshow(x[i], cmap='gray')\n",
        "    plt.title(f'label: {y[i]}')\n",
        "    plt.axis('off')\n",
        "    plt.show()"
      ],
      "metadata": {
        "id": "3bBDiwI7z_p8"
      },
      "execution_count": 4,
      "outputs": []
    },
    {
      "cell_type": "code",
      "source": [
        "# Creating a function to visualize a random example from the given data\n",
        "def show_random_example(images, labels):\n",
        "  \"\"\"By giving a images and their corresponding labels\n",
        "   you would get 9 random of them\"\"\"\n",
        "  random_idx = random.sample(range(len(images)), 9)\n",
        "  random_images = [images[i] for i in random_idx]\n",
        "  random_labels = [labels[i] for i in random_idx]\n",
        "\n",
        "  plt.figure(figsize=(7, 8))\n",
        "  for i in range(9):\n",
        "    plt.subplot(3, 3, i+1)\n",
        "    plt.imshow(random_images[i], cmap='gist_gray')\n",
        "    plt.title(f\"label= {random_labels[i]}\")\n",
        "    plt.axis(\"off\")"
      ],
      "metadata": {
        "id": "WU7QUxNt5T8S"
      },
      "execution_count": 5,
      "outputs": []
    },
    {
      "cell_type": "code",
      "source": [
        "ax_shansi(x_train, y_train)"
      ],
      "metadata": {
        "colab": {
          "base_uri": "https://localhost:8080/",
          "height": 290
        },
        "id": "eq99_S_42jMR",
        "outputId": "a5ce1721-a6ed-4de4-9a0d-57ffca3593a9"
      },
      "execution_count": 6,
      "outputs": [
        {
          "output_type": "display_data",
          "data": {
            "text/plain": [
              "<Figure size 300x300 with 1 Axes>"
            ],
            "image/png": "[encoded data removed]"
          },
          "metadata": {}
        }
      ]
    },
    {
      "cell_type": "code",
      "source": [
        "show_random_example(x_train, y_train)"
      ],
      "metadata": {
        "colab": {
          "base_uri": "https://localhost:8080/",
          "height": 653
        },
        "id": "-TPZat_a5bRd",
        "outputId": "d00ba439-e68f-47e5-f038-24b9972226f3"
      },
      "execution_count": 7,
      "outputs": [
        {
          "output_type": "display_data",
          "data": {
            "text/plain": [
              "<Figure size 700x800 with 9 Axes>"
            ],
            "image/png": "[encoded data removed]"
          },
          "metadata": {}
        }
      ]
    },
    {
      "cell_type": "markdown",
      "source": [
        "# Data preprocessing"
      ],
      "metadata": {
        "id": "FIjnaaO1Anb4"
      }
    },
    {
      "cell_type": "code",
      "source": [
        "x_train = x_train / 255.0"
      ],
      "metadata": {
        "id": "7oTEgJRP3kds"
      },
      "execution_count": 8,
      "outputs": []
    },
    {
      "cell_type": "code",
      "source": [
        "x_test = x_test / 255."
      ],
      "metadata": {
        "id": "ohpmJ2ed6iCj"
      },
      "execution_count": 9,
      "outputs": []
    },
    {
      "cell_type": "markdown",
      "source": [
        "Be in nokte deghat konim ke be komake taghsim kardane `x_train` bar adade `255` bazeye adade ma beyne `0 ta 1` gharar migirand, va midoonim ke neural network ha ham, alaghe be in daran ke adade beyne `0 ta 1` ro be onvane vurudi daryaft konan."
      ],
      "metadata": {
        "id": "DscRHk4g60NW"
      }
    },
    {
      "cell_type": "code",
      "source": [
        "type(255), type(255.)"
      ],
      "metadata": {
        "colab": {
          "base_uri": "https://localhost:8080/"
        },
        "id": "a6gNFCCc7Ozo",
        "outputId": "a1d6048c-eae6-45b7-8e6c-4c65cb6d2a9d"
      },
      "execution_count": 10,
      "outputs": [
        {
          "output_type": "execute_result",
          "data": {
            "text/plain": [
              "(int, float)"
            ]
          },
          "metadata": {},
          "execution_count": 10
        }
      ]
    },
    {
      "cell_type": "code",
      "source": [
        "y_train[:3]"
      ],
      "metadata": {
        "colab": {
          "base_uri": "https://localhost:8080/"
        },
        "id": "1zM3Xh-79eh9",
        "outputId": "c6982e80-9334-4a95-a21a-28511aff8699"
      },
      "execution_count": 11,
      "outputs": [
        {
          "output_type": "execute_result",
          "data": {
            "text/plain": [
              "array([5, 0, 4], dtype=uint8)"
            ]
          },
          "metadata": {},
          "execution_count": 11
        }
      ]
    },
    {
      "cell_type": "code",
      "source": [
        "y_train.shape"
      ],
      "metadata": {
        "colab": {
          "base_uri": "https://localhost:8080/"
        },
        "id": "SfyPNxQZ9h9O",
        "outputId": "85daf57f-1b74-40a6-a611-29876a4183dd"
      },
      "execution_count": 12,
      "outputs": [
        {
          "output_type": "execute_result",
          "data": {
            "text/plain": [
              "(60000,)"
            ]
          },
          "metadata": {},
          "execution_count": 12
        }
      ]
    },
    {
      "cell_type": "code",
      "source": [
        "y_train_one_hot = tf.one_hot(y_train, 10)"
      ],
      "metadata": {
        "id": "gh3zKXxs9PUC"
      },
      "execution_count": 13,
      "outputs": []
    },
    {
      "cell_type": "code",
      "source": [
        "y_train_one_hot[:3]"
      ],
      "metadata": {
        "colab": {
          "base_uri": "https://localhost:8080/"
        },
        "id": "drC28gd-9p0K",
        "outputId": "0eee9f41-b67f-4f5e-f589-35a168d889db"
      },
      "execution_count": 14,
      "outputs": [
        {
          "output_type": "execute_result",
          "data": {
            "text/plain": [
              "<tf.Tensor: shape=(3, 10), dtype=float32, numpy=\n",
              "array([[0., 0., 0., 0., 0., 1., 0., 0., 0., 0.],\n",
              "       [1., 0., 0., 0., 0., 0., 0., 0., 0., 0.],\n",
              "       [0., 0., 0., 0., 1., 0., 0., 0., 0., 0.]], dtype=float32)>"
            ]
          },
          "metadata": {},
          "execution_count": 14
        }
      ]
    },
    {
      "cell_type": "code",
      "source": [
        "y_train_one_hot.shape"
      ],
      "metadata": {
        "colab": {
          "base_uri": "https://localhost:8080/"
        },
        "id": "56-H4yjw9Tkl",
        "outputId": "9d767bcb-bd15-488c-9fcd-ba1e58fa384c"
      },
      "execution_count": 15,
      "outputs": [
        {
          "output_type": "execute_result",
          "data": {
            "text/plain": [
              "TensorShape([60000, 10])"
            ]
          },
          "metadata": {},
          "execution_count": 15
        }
      ]
    },
    {
      "cell_type": "code",
      "source": [
        "y_test_one_hot = tf.one_hot(y_test, 10)"
      ],
      "metadata": {
        "id": "EPXBpaaw_qBS"
      },
      "execution_count": 16,
      "outputs": []
    },
    {
      "cell_type": "code",
      "source": [
        "y_test_one_hot.shape"
      ],
      "metadata": {
        "colab": {
          "base_uri": "https://localhost:8080/"
        },
        "id": "P9ayWytO_vEG",
        "outputId": "44267b86-8c08-4081-9f29-309da2fe2510"
      },
      "execution_count": 17,
      "outputs": [
        {
          "output_type": "execute_result",
          "data": {
            "text/plain": [
              "TensorShape([10000, 10])"
            ]
          },
          "metadata": {},
          "execution_count": 17
        }
      ]
    },
    {
      "cell_type": "markdown",
      "source": [
        "Bayad zamani ke classification anjam midim, khurji hamoon ro `one hot encoding` anjam bedim. be komake `one hot encoding` dar vaghe be layeye akhar ejaze midim ke ehtemale har kudum az label haye mokhtalef ro mohasebe kone va ma dar enteha label i ke bishtarin ehtemal ro dare, be onvane natijeye nahai entekhab mikonim."
      ],
      "metadata": {
        "id": "otPtejte8sqN"
      }
    },
    {
      "cell_type": "markdown",
      "source": [
        "# Model Training"
      ],
      "metadata": {
        "id": "Uah84_ghAZ2Y"
      }
    },
    {
      "cell_type": "code",
      "source": [
        "28 * 28"
      ],
      "metadata": {
        "colab": {
          "base_uri": "https://localhost:8080/"
        },
        "id": "OwEV42w5BWi0",
        "outputId": "8fd01bde-c349-43bc-cd21-81a179253fe9"
      },
      "execution_count": 18,
      "outputs": [
        {
          "output_type": "execute_result",
          "data": {
            "text/plain": [
              "784"
            ]
          },
          "metadata": {},
          "execution_count": 18
        }
      ]
    },
    {
      "cell_type": "code",
      "source": [
        "x_train[5].shape"
      ],
      "metadata": {
        "colab": {
          "base_uri": "https://localhost:8080/"
        },
        "id": "D8FGUZtLBwTC",
        "outputId": "f5f9b51f-4e21-4ae1-875c-f67398bbcf15"
      },
      "execution_count": 19,
      "outputs": [
        {
          "output_type": "execute_result",
          "data": {
            "text/plain": [
              "(28, 28)"
            ]
          },
          "metadata": {},
          "execution_count": 19
        }
      ]
    },
    {
      "cell_type": "code",
      "source": [
        "x = keras.layers.Input(shape=(28, 28))"
      ],
      "metadata": {
        "id": "JAPkWkQzCMP0"
      },
      "execution_count": 20,
      "outputs": []
    },
    {
      "cell_type": "code",
      "source": [
        "keras.layers.Flatten()(x)"
      ],
      "metadata": {
        "colab": {
          "base_uri": "https://localhost:8080/"
        },
        "id": "xSjDWcy0CZGU",
        "outputId": "93a954a0-dec3-4d70-f4e5-76e7199162d9"
      },
      "execution_count": 21,
      "outputs": [
        {
          "output_type": "execute_result",
          "data": {
            "text/plain": [
              "<KerasTensor: shape=(None, 784) dtype=float32 (created by layer 'flatten')>"
            ]
          },
          "metadata": {},
          "execution_count": 21
        }
      ]
    },
    {
      "cell_type": "code",
      "source": [
        "# Create the model\n",
        "model = keras.Sequential([\n",
        "    keras.layers.Input(shape=(28, 28)),\n",
        "    keras.layers.Flatten(),\n",
        "    keras.layers.Dense(100, activation='relu'),\n",
        "    keras.layers.Dense(100, activation='relu'),\n",
        "    keras.layers.Dense(10, activation='softmax')\n",
        "])"
      ],
      "metadata": {
        "id": "3761PCR-Azob"
      },
      "execution_count": 110,
      "outputs": []
    },
    {
      "cell_type": "code",
      "source": [
        "# Compile the model\n",
        "model.compile(optimizer=keras.optimizers.Adam(),\n",
        "              loss=keras.losses.CategoricalCrossentropy(),\n",
        "              metrics='accuracy')"
      ],
      "metadata": {
        "id": "c-bW7JWrDA-b"
      },
      "execution_count": 111,
      "outputs": []
    },
    {
      "cell_type": "code",
      "source": [
        "# Fit the data\n",
        "history = model.fit(\n",
        "    x_train,\n",
        "    y_train_one_hot,\n",
        "    validation_data=(x_test, y_test_one_hot),\n",
        "    epochs=10\n",
        ")"
      ],
      "metadata": {
        "colab": {
          "base_uri": "https://localhost:8080/"
        },
        "id": "NnuL918ODfUy",
        "outputId": "669037c4-9698-4c46-8466-b58e22b351a6"
      },
      "execution_count": 112,
      "outputs": [
        {
          "output_type": "stream",
          "name": "stdout",
          "text": [
            "Epoch 1/10\n",
            "1875/1875 [==============================] - 10s 5ms/step - loss: 0.2438 - accuracy: 0.9291 - val_loss: 0.1276 - val_accuracy: 0.9609\n",
            "Epoch 2/10\n",
            "1875/1875 [==============================] - 7s 4ms/step - loss: 0.1037 - accuracy: 0.9692 - val_loss: 0.0934 - val_accuracy: 0.9698\n",
            "Epoch 3/10\n",
            "1875/1875 [==============================] - 8s 5ms/step - loss: 0.0738 - accuracy: 0.9762 - val_loss: 0.0848 - val_accuracy: 0.9739\n",
            "Epoch 4/10\n",
            "1875/1875 [==============================] - 9s 5ms/step - loss: 0.0555 - accuracy: 0.9824 - val_loss: 0.0885 - val_accuracy: 0.9738\n",
            "Epoch 5/10\n",
            "1875/1875 [==============================] - 8s 4ms/step - loss: 0.0435 - accuracy: 0.9857 - val_loss: 0.0763 - val_accuracy: 0.9788\n",
            "Epoch 6/10\n",
            "1875/1875 [==============================] - 9s 5ms/step - loss: 0.0353 - accuracy: 0.9886 - val_loss: 0.0801 - val_accuracy: 0.9776\n",
            "Epoch 7/10\n",
            "1875/1875 [==============================] - 9s 5ms/step - loss: 0.0298 - accuracy: 0.9902 - val_loss: 0.0829 - val_accuracy: 0.9766\n",
            "Epoch 8/10\n",
            "1875/1875 [==============================] - 8s 4ms/step - loss: 0.0255 - accuracy: 0.9913 - val_loss: 0.0785 - val_accuracy: 0.9780\n",
            "Epoch 9/10\n",
            "1875/1875 [==============================] - 9s 5ms/step - loss: 0.0211 - accuracy: 0.9933 - val_loss: 0.0870 - val_accuracy: 0.9770\n",
            "Epoch 10/10\n",
            "1875/1875 [==============================] - 9s 5ms/step - loss: 0.0196 - accuracy: 0.9931 - val_loss: 0.0878 - val_accuracy: 0.9797\n"
          ]
        }
      ]
    },
    {
      "cell_type": "markdown",
      "source": [
        "Yek function benvisin ke miad 1 index e random migire, va miad rooye oon prediction anjam mide. hala yek ax plot mikone ke ham label e vaghei vujud dare va ham prediction e model."
      ],
      "metadata": {
        "id": "W1Gtk1J0ELmX"
      }
    },
    {
      "cell_type": "code",
      "source": [
        "x_test.shape"
      ],
      "metadata": {
        "colab": {
          "base_uri": "https://localhost:8080/"
        },
        "id": "C3sIZuTyHJDt",
        "outputId": "735c8be2-ab06-42b7-cf79-1354eef711a3"
      },
      "execution_count": 22,
      "outputs": [
        {
          "output_type": "execute_result",
          "data": {
            "text/plain": [
              "(10000, 28, 28)"
            ]
          },
          "metadata": {},
          "execution_count": 22
        }
      ]
    },
    {
      "cell_type": "code",
      "source": [
        "x_test[45].shape"
      ],
      "metadata": {
        "colab": {
          "base_uri": "https://localhost:8080/"
        },
        "id": "reDariXfIA8I",
        "outputId": "bcb25b3f-ff51-432d-a971-092b9230a2f9"
      },
      "execution_count": 24,
      "outputs": [
        {
          "output_type": "execute_result",
          "data": {
            "text/plain": [
              "(28, 28)"
            ]
          },
          "metadata": {},
          "execution_count": 24
        }
      ]
    },
    {
      "cell_type": "code",
      "source": [
        "tf.expand_dims(x_test[45], axis=0).shape"
      ],
      "metadata": {
        "colab": {
          "base_uri": "https://localhost:8080/"
        },
        "id": "aWBUfrcvHnhk",
        "outputId": "fe20d00f-07ae-4744-fc71-f4d7d8beb08e"
      },
      "execution_count": 23,
      "outputs": [
        {
          "output_type": "execute_result",
          "data": {
            "text/plain": [
              "TensorShape([1, 28, 28])"
            ]
          },
          "metadata": {},
          "execution_count": 23
        }
      ]
    },
    {
      "cell_type": "code",
      "source": [
        "model.predict(tf.expand_dims(x_test[45], axis=0))"
      ],
      "metadata": {
        "id": "dljhu6l-G_Yx"
      },
      "execution_count": null,
      "outputs": []
    },
    {
      "cell_type": "code",
      "source": [],
      "metadata": {
        "id": "56FlFOx2HEWl"
      },
      "execution_count": null,
      "outputs": []
    }
  ]
}