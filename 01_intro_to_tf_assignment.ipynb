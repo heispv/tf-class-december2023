{
  "nbformat": 4,
  "nbformat_minor": 0,
  "metadata": {
    "colab": {
      "provenance": [],
      "authorship_tag": "ABX9TyOrDePqeIqdQ1EcF7LPtjI7",
      "include_colab_link": true
    },
    "kernelspec": {
      "name": "python3",
      "display_name": "Python 3"
    },
    "language_info": {
      "name": "python"
    }
  },
  "cells": [
    {
      "cell_type": "markdown",
      "metadata": {
        "id": "view-in-github",
        "colab_type": "text"
      },
      "source": [
        "<a href=\"https://colab.research.google.com/github/heispv/tf_class/blob/master/01_intro_to_tf_assignment.ipynb\" target=\"_parent\"><img src=\"https://colab.research.google.com/assets/colab-badge.svg\" alt=\"Open In Colab\"/></a>"
      ]
    },
    {
      "cell_type": "markdown",
      "source": [
        "#1.\n",
        "1. Yek matrix ba shape e (3, 2) be komake tensorflow baraye khodetoon besazin.\n",
        "2. Hala yek vector ba shape e (14,) besazin.\n",
        "3. be komake function reshape e tensorflow vector ro be matrix i tabdil konin ke betoonin matrix e ba shape e (3, 2) ro dar oon zarb konin.\n",
        "4. zarbe do matrix ro dar variable e `ans` zakhire konid\n",
        "5. matrix i ba size e barabar ba `ans` besazin ke hameye adad dakhelesh 1 bashe va oon ro dar variable `faghat_yek` zakhire konid.\n",
        "6. hala bayad matrix `ans` ro dar `faghat_yek` zarb konim, ama chon size ha beham nemikhoran be komake yek function jaye satr va sotoon yeki az matrix haro avaz konid. (kudum matrix bayad jaye satr va sotoonesh avaz she? matrix aval ya dovom? chera?)\n",
        "7. pasokh nahai ro dakhele `final_ans` zakhire konid va sepas oon ro tabdil be datatype `numpy` bokonid va dakhele variable `final_ans_np` zakhire bokonid."
      ],
      "metadata": {
        "id": "GRcImkrzCh3y"
      }
    }
  ]
}