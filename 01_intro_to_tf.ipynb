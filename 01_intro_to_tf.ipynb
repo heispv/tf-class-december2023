{
  "nbformat": 4,
  "nbformat_minor": 0,
  "metadata": {
    "colab": {
      "provenance": [],
      "authorship_tag": "ABX9TyPmX+zVW4OPjbMcT8YLIagK",
      "include_colab_link": true
    },
    "kernelspec": {
      "name": "python3",
      "display_name": "Python 3"
    },
    "language_info": {
      "name": "python"
    }
  },
  "cells": [
    {
      "cell_type": "markdown",
      "metadata": {
        "id": "view-in-github",
        "colab_type": "text"
      },
      "source": [
        "<a href=\"https://colab.research.google.com/github/heispv/tf_class/blob/master/01_intro_to_tf.ipynb\" target=\"_parent\"><img src=\"https://colab.research.google.com/assets/colab-badge.svg\" alt=\"Open In Colab\"/></a>"
      ]
    },
    {
      "cell_type": "code",
      "execution_count": null,
      "metadata": {
        "id": "fq_cgZSbGI82"
      },
      "outputs": [],
      "source": [
        "import tensorflow as tf\n",
        "import numpy as np"
      ]
    },
    {
      "cell_type": "markdown",
      "source": [
        "# tf.constant()"
      ],
      "metadata": {
        "id": "CRItFwbYH-J9"
      }
    },
    {
      "cell_type": "markdown",
      "source": [
        "## Scalar\n",
        "Listi az adad ke faghat yek adad tooshe"
      ],
      "metadata": {
        "id": "kWB6VVbgG7Yr"
      }
    },
    {
      "cell_type": "code",
      "source": [
        "my_scalar = tf.constant(3)\n",
        "print(type(my_scalar))\n",
        "print(my_scalar)"
      ],
      "metadata": {
        "colab": {
          "base_uri": "https://localhost:8080/"
        },
        "id": "dS449pl-HTaE",
        "outputId": "62e8fe03-009c-4085-ebb0-133c13342cf2"
      },
      "execution_count": null,
      "outputs": [
        {
          "output_type": "stream",
          "name": "stdout",
          "text": [
            "<class 'tensorflow.python.framework.ops.EagerTensor'>\n",
            "tf.Tensor(3, shape=(), dtype=int32)\n"
          ]
        }
      ]
    },
    {
      "cell_type": "markdown",
      "source": [
        "* dtype (datatype) = integer 32 (integer 32 bit)\n",
        "* numpy = 3\n"
      ],
      "metadata": {
        "id": "MzNiCTFzHc2E"
      }
    },
    {
      "cell_type": "code",
      "source": [
        "my_scalar.shape"
      ],
      "metadata": {
        "colab": {
          "base_uri": "https://localhost:8080/"
        },
        "id": "Ww2ONGd6JSG9",
        "outputId": "a3471f98-344c-4e71-9252-d3417d9aaae1"
      },
      "execution_count": null,
      "outputs": [
        {
          "output_type": "execute_result",
          "data": {
            "text/plain": [
              "TensorShape([])"
            ]
          },
          "metadata": {},
          "execution_count": 12
        }
      ]
    },
    {
      "cell_type": "code",
      "source": [
        "# biaim va bode tensor emoon ro bebinim\n",
        "my_scalar.ndim"
      ],
      "metadata": {
        "colab": {
          "base_uri": "https://localhost:8080/"
        },
        "id": "4tdwbH4pH6kY",
        "outputId": "e7358d25-02df-4275-fed8-cfb9fabe8b48"
      },
      "execution_count": null,
      "outputs": [
        {
          "output_type": "execute_result",
          "data": {
            "text/plain": [
              "0"
            ]
          },
          "metadata": {},
          "execution_count": 7
        }
      ]
    },
    {
      "cell_type": "markdown",
      "source": [
        "* Ma mitoonim tensorflow object ro be numpy tabdil konim"
      ],
      "metadata": {
        "id": "qlHipYEOIo85"
      }
    },
    {
      "cell_type": "code",
      "source": [
        "# tensorflow ro be numpy tabdil kardam\n",
        "my_scalar.numpy()"
      ],
      "metadata": {
        "colab": {
          "base_uri": "https://localhost:8080/"
        },
        "id": "U_KDfL0nIF83",
        "outputId": "920b3a2c-251d-4b19-ddc8-b17947b61db1"
      },
      "execution_count": null,
      "outputs": [
        {
          "output_type": "execute_result",
          "data": {
            "text/plain": [
              "3"
            ]
          },
          "metadata": {},
          "execution_count": 8
        }
      ]
    },
    {
      "cell_type": "markdown",
      "source": [
        "## Vector\n",
        "Listi az adad hast ke yek bod daran"
      ],
      "metadata": {
        "id": "GvjFSRObIYcy"
      }
    },
    {
      "cell_type": "code",
      "source": [
        "my_vector = tf.constant([1, 2, 3, 4])\n",
        "my_vector"
      ],
      "metadata": {
        "colab": {
          "base_uri": "https://localhost:8080/"
        },
        "id": "VzZLgHWBI2Zk",
        "outputId": "d4f92606-05ed-4902-c577-1ccf9852ff43"
      },
      "execution_count": null,
      "outputs": [
        {
          "output_type": "execute_result",
          "data": {
            "text/plain": [
              "<tf.Tensor: shape=(4,), dtype=int32, numpy=array([1, 2, 3, 4], dtype=int32)>"
            ]
          },
          "metadata": {},
          "execution_count": 10
        }
      ]
    },
    {
      "cell_type": "code",
      "source": [
        "# shape ro bebinim\n",
        "my_vector.shape"
      ],
      "metadata": {
        "colab": {
          "base_uri": "https://localhost:8080/"
        },
        "id": "WbDDyXAEJLMM",
        "outputId": "bb2d890f-6da7-4045-e1ab-b3af0d7e78d0"
      },
      "execution_count": null,
      "outputs": [
        {
          "output_type": "execute_result",
          "data": {
            "text/plain": [
              "TensorShape([4])"
            ]
          },
          "metadata": {},
          "execution_count": 11
        }
      ]
    },
    {
      "cell_type": "code",
      "source": [
        "# bodesh ro bebinim\n",
        "my_vector.ndim"
      ],
      "metadata": {
        "colab": {
          "base_uri": "https://localhost:8080/"
        },
        "id": "yiILPxi0JPIA",
        "outputId": "2fd66b47-2c95-42a0-ff57-92fbf17357a6"
      },
      "execution_count": null,
      "outputs": [
        {
          "output_type": "execute_result",
          "data": {
            "text/plain": [
              "1"
            ]
          },
          "metadata": {},
          "execution_count": 13
        }
      ]
    },
    {
      "cell_type": "markdown",
      "source": [
        "## matrix\n",
        "matrix lisit az adad hast ke be komake radif va sotoon mitoonim oonaro az ham dge joda konim"
      ],
      "metadata": {
        "id": "3QWtpqiIJhcb"
      }
    },
    {
      "cell_type": "code",
      "source": [
        "my_matrix = tf.constant([[1, 2, 3],\n",
        "                         [2, 3, 4],\n",
        "                         [5, 5, 5]])\n",
        "my_matrix"
      ],
      "metadata": {
        "colab": {
          "base_uri": "https://localhost:8080/"
        },
        "id": "e8rb64dWJ1ZG",
        "outputId": "9e3d32e0-a977-45a9-aa61-eaf3e1dd3a7d"
      },
      "execution_count": null,
      "outputs": [
        {
          "output_type": "execute_result",
          "data": {
            "text/plain": [
              "<tf.Tensor: shape=(3, 3), dtype=int32, numpy=\n",
              "array([[1, 2, 3],\n",
              "       [2, 3, 4],\n",
              "       [5, 5, 5]], dtype=int32)>"
            ]
          },
          "metadata": {},
          "execution_count": 17
        }
      ]
    },
    {
      "cell_type": "markdown",
      "source": [
        "chon matrix e man 2 satr va 3 sotoon dare"
      ],
      "metadata": {
        "id": "jDQ0cUouKSs6"
      }
    },
    {
      "cell_type": "code",
      "source": [
        "my_matrix.shape"
      ],
      "metadata": {
        "colab": {
          "base_uri": "https://localhost:8080/"
        },
        "id": "Q37bk1r2KMoJ",
        "outputId": "86e712e6-c15a-4937-9dad-e5740888e37e"
      },
      "execution_count": null,
      "outputs": [
        {
          "output_type": "execute_result",
          "data": {
            "text/plain": [
              "TensorShape([3, 3])"
            ]
          },
          "metadata": {},
          "execution_count": 18
        }
      ]
    },
    {
      "cell_type": "code",
      "source": [
        "my_matrix.ndim"
      ],
      "metadata": {
        "colab": {
          "base_uri": "https://localhost:8080/"
        },
        "id": "xKjzY1XPKRu9",
        "outputId": "06888b97-d9b8-4aa0-ab2a-ead77362b26c"
      },
      "execution_count": null,
      "outputs": [
        {
          "output_type": "execute_result",
          "data": {
            "text/plain": [
              "2"
            ]
          },
          "metadata": {},
          "execution_count": 19
        }
      ]
    },
    {
      "cell_type": "markdown",
      "source": [
        "## Tensor\n",
        "majmooei az matrix ha ke poshte sare ham gharar gereftan."
      ],
      "metadata": {
        "id": "m6EXexBhKiFJ"
      }
    },
    {
      "cell_type": "code",
      "source": [
        "my_tensor = tf.constant([[[1, 2, 3],\n",
        "                          [3, 4, 3]],\n",
        "\n",
        "                         [[10, 20, 4],\n",
        "                          [30, 40, 200]],\n",
        "\n",
        "                         [[10, 20, 4],\n",
        "                          [30, 40, 200]]])\n",
        "my_tensor"
      ],
      "metadata": {
        "colab": {
          "base_uri": "https://localhost:8080/"
        },
        "id": "1gZM8WreK7Dn",
        "outputId": "a34365e8-3e35-40f3-b679-1433c0ad64b4"
      },
      "execution_count": null,
      "outputs": [
        {
          "output_type": "execute_result",
          "data": {
            "text/plain": [
              "<tf.Tensor: shape=(3, 2, 3), dtype=int32, numpy=\n",
              "array([[[  1,   2,   3],\n",
              "        [  3,   4,   3]],\n",
              "\n",
              "       [[ 10,  20,   4],\n",
              "        [ 30,  40, 200]],\n",
              "\n",
              "       [[ 10,  20,   4],\n",
              "        [ 30,  40, 200]]], dtype=int32)>"
            ]
          },
          "metadata": {},
          "execution_count": 24
        }
      ]
    },
    {
      "cell_type": "code",
      "source": [
        "# shape e tensor ro peyda konim\n",
        "my_tensor.shape"
      ],
      "metadata": {
        "colab": {
          "base_uri": "https://localhost:8080/"
        },
        "id": "l_E8UOrILaQ3",
        "outputId": "d4b1198b-e01f-405f-b768-8554b758b154"
      },
      "execution_count": null,
      "outputs": [
        {
          "output_type": "execute_result",
          "data": {
            "text/plain": [
              "TensorShape([2, 2, 3])"
            ]
          },
          "metadata": {},
          "execution_count": 23
        }
      ]
    },
    {
      "cell_type": "markdown",
      "source": [
        "man 2 ta matrix daram ke har kodoomeshoon 2 dar 3 hastan\n",
        "\n",
        "pas hamishe shape e tensor ha be soorate `shape(z, n, m)`\n",
        "yani `z` ta matrix e `n` dar `m` darim"
      ],
      "metadata": {
        "id": "txcfPsTELw1F"
      }
    },
    {
      "cell_type": "markdown",
      "source": [
        "# tf.Variable()"
      ],
      "metadata": {
        "id": "PFvLqTNmLuwG"
      }
    },
    {
      "cell_type": "code",
      "source": [
        "my_v = tf.Variable([1, 2, 3, 4])\n",
        "my_v"
      ],
      "metadata": {
        "colab": {
          "base_uri": "https://localhost:8080/"
        },
        "id": "qEeiaUHZMbxW",
        "outputId": "95522d87-10ed-4a8d-b443-55b59e2dadf4"
      },
      "execution_count": null,
      "outputs": [
        {
          "output_type": "execute_result",
          "data": {
            "text/plain": [
              "<tf.Variable 'Variable:0' shape=(4,) dtype=int32, numpy=array([1, 2, 3, 4], dtype=int32)>"
            ]
          },
          "metadata": {},
          "execution_count": 25
        }
      ]
    },
    {
      "cell_type": "code",
      "source": [
        "# mesal numpy\n",
        "my_numpy = np.array([1, 2, 3, 4])\n",
        "my_numpy"
      ],
      "metadata": {
        "colab": {
          "base_uri": "https://localhost:8080/"
        },
        "id": "_2Twx9X8Mi7H",
        "outputId": "e0e464e1-f216-49b8-ee24-28dbf4832236"
      },
      "execution_count": null,
      "outputs": [
        {
          "output_type": "execute_result",
          "data": {
            "text/plain": [
              "array([1, 2, 3, 4])"
            ]
          },
          "metadata": {},
          "execution_count": 27
        }
      ]
    },
    {
      "cell_type": "code",
      "source": [
        "my_numpy[1] = 10"
      ],
      "metadata": {
        "id": "N-yGTZ3jM-km"
      },
      "execution_count": null,
      "outputs": []
    },
    {
      "cell_type": "code",
      "source": [
        "my_numpy"
      ],
      "metadata": {
        "colab": {
          "base_uri": "https://localhost:8080/"
        },
        "id": "koSsXq6hNG59",
        "outputId": "5323a091-3b7a-4a92-f22f-1ef113819fb2"
      },
      "execution_count": null,
      "outputs": [
        {
          "output_type": "execute_result",
          "data": {
            "text/plain": [
              "array([ 1, 10,  3,  4])"
            ]
          },
          "metadata": {},
          "execution_count": 29
        }
      ]
    },
    {
      "cell_type": "code",
      "source": [
        "my_v[2] = 15"
      ],
      "metadata": {
        "colab": {
          "base_uri": "https://localhost:8080/",
          "height": 180
        },
        "id": "EcI0f1lKNIAa",
        "outputId": "ad321b18-c1b9-4d4b-e82c-63bd11cf2568"
      },
      "execution_count": null,
      "outputs": [
        {
          "output_type": "error",
          "ename": "TypeError",
          "evalue": "ignored",
          "traceback": [
            "\u001b[0;31m---------------------------------------------------------------------------\u001b[0m",
            "\u001b[0;31mTypeError\u001b[0m                                 Traceback (most recent call last)",
            "\u001b[0;32m<ipython-input-31-3e853ca18d49>\u001b[0m in \u001b[0;36m<cell line: 1>\u001b[0;34m()\u001b[0m\n\u001b[0;32m----> 1\u001b[0;31m \u001b[0mmy_v\u001b[0m\u001b[0;34m[\u001b[0m\u001b[0;36m2\u001b[0m\u001b[0;34m]\u001b[0m \u001b[0;34m=\u001b[0m \u001b[0;36m15\u001b[0m\u001b[0;34m\u001b[0m\u001b[0;34m\u001b[0m\u001b[0m\n\u001b[0m",
            "\u001b[0;31mTypeError\u001b[0m: 'ResourceVariable' object does not support item assignment"
          ]
        }
      ]
    },
    {
      "cell_type": "code",
      "source": [
        "my_v[2].assign(15)"
      ],
      "metadata": {
        "colab": {
          "base_uri": "https://localhost:8080/"
        },
        "id": "9NWaO0u-NSRB",
        "outputId": "d381f60b-cdde-464a-9894-b6047ffb7196"
      },
      "execution_count": null,
      "outputs": [
        {
          "output_type": "execute_result",
          "data": {
            "text/plain": [
              "<tf.Variable 'UnreadVariable' shape=(4,) dtype=int32, numpy=array([ 1,  2, 15,  4], dtype=int32)>"
            ]
          },
          "metadata": {},
          "execution_count": 33
        }
      ]
    },
    {
      "cell_type": "code",
      "source": [
        "# bebinim va tf.constant ham javab mide?\n",
        "tf.constant[0].assign(40)"
      ],
      "metadata": {
        "colab": {
          "base_uri": "https://localhost:8080/",
          "height": 198
        },
        "id": "bE9nJpMTNhgu",
        "outputId": "86bd04f1-f67e-4dd6-e77f-72e46b698555"
      },
      "execution_count": null,
      "outputs": [
        {
          "output_type": "error",
          "ename": "TypeError",
          "evalue": "ignored",
          "traceback": [
            "\u001b[0;31m---------------------------------------------------------------------------\u001b[0m",
            "\u001b[0;31mTypeError\u001b[0m                                 Traceback (most recent call last)",
            "\u001b[0;32m<ipython-input-34-f6f3019fd802>\u001b[0m in \u001b[0;36m<cell line: 2>\u001b[0;34m()\u001b[0m\n\u001b[1;32m      1\u001b[0m \u001b[0;31m# bebinim va tf.constant ham javab mide?\u001b[0m\u001b[0;34m\u001b[0m\u001b[0;34m\u001b[0m\u001b[0m\n\u001b[0;32m----> 2\u001b[0;31m \u001b[0mtf\u001b[0m\u001b[0;34m.\u001b[0m\u001b[0mconstant\u001b[0m\u001b[0;34m[\u001b[0m\u001b[0;36m0\u001b[0m\u001b[0;34m]\u001b[0m\u001b[0;34m.\u001b[0m\u001b[0massign\u001b[0m\u001b[0;34m(\u001b[0m\u001b[0;36m40\u001b[0m\u001b[0;34m)\u001b[0m\u001b[0;34m\u001b[0m\u001b[0;34m\u001b[0m\u001b[0m\n\u001b[0m",
            "\u001b[0;31mTypeError\u001b[0m: 'function' object is not subscriptable"
          ]
        }
      ]
    },
    {
      "cell_type": "markdown",
      "source": [
        "* pas yademoon bashe ke agar yek variable be komake tf.constant() besazim gheire ghabele taghir hastesh, ama agar be komake tf.variable() besazim mitoonim badan taghiresh ham bedim."
      ],
      "metadata": {
        "id": "-J1_Ne8hO2a9"
      }
    },
    {
      "cell_type": "code",
      "source": [
        "my_tensor"
      ],
      "metadata": {
        "colab": {
          "base_uri": "https://localhost:8080/"
        },
        "id": "EZYxVI8bN8nT",
        "outputId": "02401499-4431-4ace-c252-a288f1a80c2c"
      },
      "execution_count": null,
      "outputs": [
        {
          "output_type": "execute_result",
          "data": {
            "text/plain": [
              "<tf.Tensor: shape=(3, 2, 3), dtype=int32, numpy=\n",
              "array([[[  1,   2,   3],\n",
              "        [  3,   4,   3]],\n",
              "\n",
              "       [[ 10,  20,   4],\n",
              "        [ 30,  40, 200]],\n",
              "\n",
              "       [[ 10,  20,   4],\n",
              "        [ 30,  40, 200]]], dtype=int32)>"
            ]
          },
          "metadata": {},
          "execution_count": 36
        }
      ]
    },
    {
      "cell_type": "code",
      "source": [
        "my_tensor[1][1][2]"
      ],
      "metadata": {
        "colab": {
          "base_uri": "https://localhost:8080/"
        },
        "id": "Fis_72VROEHv",
        "outputId": "2e4afc39-ae3b-44d6-db1f-fc6c671b8100"
      },
      "execution_count": null,
      "outputs": [
        {
          "output_type": "execute_result",
          "data": {
            "text/plain": [
              "<tf.Tensor: shape=(), dtype=int32, numpy=200>"
            ]
          },
          "metadata": {},
          "execution_count": 39
        }
      ]
    },
    {
      "cell_type": "markdown",
      "source": [
        "# tf.ones(shape)"
      ],
      "metadata": {
        "id": "H4kBXJvAOavh"
      }
    },
    {
      "cell_type": "code",
      "source": [
        "my_ones = tf.ones(shape=(3, 2, 2))\n",
        "my_ones"
      ],
      "metadata": {
        "colab": {
          "base_uri": "https://localhost:8080/"
        },
        "id": "R3EwGc-oSSx_",
        "outputId": "af6f081c-0d4a-43d3-83f6-6c2fe7eecf1f"
      },
      "execution_count": null,
      "outputs": [
        {
          "output_type": "execute_result",
          "data": {
            "text/plain": [
              "<tf.Tensor: shape=(3, 2, 2), dtype=float32, numpy=\n",
              "array([[[1., 1.],\n",
              "        [1., 1.]],\n",
              "\n",
              "       [[1., 1.],\n",
              "        [1., 1.]],\n",
              "\n",
              "       [[1., 1.],\n",
              "        [1., 1.]]], dtype=float32)>"
            ]
          },
          "metadata": {},
          "execution_count": 42
        }
      ]
    },
    {
      "cell_type": "markdown",
      "source": [
        "# tf.zoros(shape)"
      ],
      "metadata": {
        "id": "8Wv43imfSaDz"
      }
    },
    {
      "cell_type": "code",
      "source": [
        "my_zeros = tf.zeros(shape=(2, 3, 2))\n",
        "my_zeros"
      ],
      "metadata": {
        "colab": {
          "base_uri": "https://localhost:8080/"
        },
        "id": "axdQRQ_XS0fn",
        "outputId": "9adf931f-2fb1-49c2-e46f-9e8fa56d6743"
      },
      "execution_count": null,
      "outputs": [
        {
          "output_type": "execute_result",
          "data": {
            "text/plain": [
              "<tf.Tensor: shape=(2, 3, 2), dtype=float32, numpy=\n",
              "array([[[0., 0.],\n",
              "        [0., 0.],\n",
              "        [0., 0.]],\n",
              "\n",
              "       [[0., 0.],\n",
              "        [0., 0.],\n",
              "        [0., 0.]]], dtype=float32)>"
            ]
          },
          "metadata": {},
          "execution_count": 43
        }
      ]
    },
    {
      "cell_type": "code",
      "source": [
        "my_zeros.numpy()"
      ],
      "metadata": {
        "colab": {
          "base_uri": "https://localhost:8080/"
        },
        "id": "qY6m9CgzS6Mi",
        "outputId": "90bfdc41-b71f-4b30-b6ca-527e5f7d98fc"
      },
      "execution_count": null,
      "outputs": [
        {
          "output_type": "execute_result",
          "data": {
            "text/plain": [
              "array([[[0., 0.],\n",
              "        [0., 0.],\n",
              "        [0., 0.]],\n",
              "\n",
              "       [[0., 0.],\n",
              "        [0., 0.],\n",
              "        [0., 0.]]], dtype=float32)"
            ]
          },
          "metadata": {},
          "execution_count": 44
        }
      ]
    },
    {
      "cell_type": "code",
      "source": [
        "# tabdil e numpy be tensor\n",
        "matrise_man = np.array([[1, 2, 3],\n",
        "                        [10, 15, 20]])\n",
        "matrise_man"
      ],
      "metadata": {
        "colab": {
          "base_uri": "https://localhost:8080/"
        },
        "id": "lXtY91yoTDKM",
        "outputId": "212a8e30-d875-454d-d358-28aeeafcca0f"
      },
      "execution_count": null,
      "outputs": [
        {
          "output_type": "execute_result",
          "data": {
            "text/plain": [
              "array([[ 1,  2,  3],\n",
              "       [10, 15, 20]])"
            ]
          },
          "metadata": {},
          "execution_count": 45
        }
      ]
    },
    {
      "cell_type": "code",
      "source": [
        "matrise_man_tf = tf.constant(matrise_man)\n",
        "matrise_man_tf"
      ],
      "metadata": {
        "colab": {
          "base_uri": "https://localhost:8080/"
        },
        "id": "QaiH5fOATS7K",
        "outputId": "6078a861-2a76-4d8d-cd6e-7cba9ab631a7"
      },
      "execution_count": null,
      "outputs": [
        {
          "output_type": "execute_result",
          "data": {
            "text/plain": [
              "<tf.Tensor: shape=(2, 3), dtype=int64, numpy=\n",
              "array([[ 1,  2,  3],\n",
              "       [10, 15, 20]])>"
            ]
          },
          "metadata": {},
          "execution_count": 46
        }
      ]
    },
    {
      "cell_type": "markdown",
      "source": [
        "# Tensor Operations"
      ],
      "metadata": {
        "id": "1OD4jGT8Thgt"
      }
    },
    {
      "cell_type": "code",
      "source": [
        "data = np.array([1, 2, 3])\n",
        "data_tf = tf.constant(data)\n",
        "data_tf"
      ],
      "metadata": {
        "colab": {
          "base_uri": "https://localhost:8080/"
        },
        "id": "1noHfZuvTvvk",
        "outputId": "0ee4fcda-5b16-487f-fe01-04150c53ae24"
      },
      "execution_count": null,
      "outputs": [
        {
          "output_type": "execute_result",
          "data": {
            "text/plain": [
              "<tf.Tensor: shape=(3,), dtype=int64, numpy=array([1, 2, 3])>"
            ]
          },
          "metadata": {},
          "execution_count": 47
        }
      ]
    },
    {
      "cell_type": "code",
      "source": [
        "data_tf + 10"
      ],
      "metadata": {
        "colab": {
          "base_uri": "https://localhost:8080/"
        },
        "id": "wxYf4F12T29-",
        "outputId": "f5c97264-f7dd-471c-cb1e-bbfd01fef530"
      },
      "execution_count": null,
      "outputs": [
        {
          "output_type": "execute_result",
          "data": {
            "text/plain": [
              "<tf.Tensor: shape=(3,), dtype=int64, numpy=array([11, 12, 13])>"
            ]
          },
          "metadata": {},
          "execution_count": 48
        }
      ]
    },
    {
      "cell_type": "code",
      "source": [
        "data_tf * 2"
      ],
      "metadata": {
        "colab": {
          "base_uri": "https://localhost:8080/"
        },
        "id": "d4zdKMwiT_qs",
        "outputId": "260dc313-09aa-4676-cda1-5e20b3677966"
      },
      "execution_count": null,
      "outputs": [
        {
          "output_type": "execute_result",
          "data": {
            "text/plain": [
              "<tf.Tensor: shape=(3,), dtype=int64, numpy=array([2, 4, 6])>"
            ]
          },
          "metadata": {},
          "execution_count": 49
        }
      ]
    },
    {
      "cell_type": "code",
      "source": [
        "new_data = tf.multiply(data_tf, 2)"
      ],
      "metadata": {
        "id": "MO06F_5kULut"
      },
      "execution_count": null,
      "outputs": []
    },
    {
      "cell_type": "code",
      "source": [
        "data_tf"
      ],
      "metadata": {
        "colab": {
          "base_uri": "https://localhost:8080/"
        },
        "id": "wYHidvR1UU_5",
        "outputId": "d6a0aa18-1fb7-4e9c-97a1-3da5ba89024d"
      },
      "execution_count": null,
      "outputs": [
        {
          "output_type": "execute_result",
          "data": {
            "text/plain": [
              "<tf.Tensor: shape=(3,), dtype=int64, numpy=array([1, 2, 3])>"
            ]
          },
          "metadata": {},
          "execution_count": 53
        }
      ]
    },
    {
      "cell_type": "code",
      "source": [
        "new_data"
      ],
      "metadata": {
        "colab": {
          "base_uri": "https://localhost:8080/"
        },
        "id": "cCUnP2CmUp2K",
        "outputId": "5ba731a4-d3eb-4b29-c5d0-04eb0ab62f50"
      },
      "execution_count": null,
      "outputs": [
        {
          "output_type": "execute_result",
          "data": {
            "text/plain": [
              "<tf.Tensor: shape=(3,), dtype=int64, numpy=array([2, 4, 6])>"
            ]
          },
          "metadata": {},
          "execution_count": 54
        }
      ]
    },
    {
      "cell_type": "markdown",
      "source": [
        "* pas be in deghat konim ke be komake tf.multiply(a, b) ma dar asl hich kudum az constant haro taghir nadadim, balke javabe oon haro dar yek variable e jadid zakhire kardim."
      ],
      "metadata": {
        "id": "bdbYtDp2UvY_"
      }
    },
    {
      "cell_type": "markdown",
      "source": [
        "# tf.matmul(a, b)\n",
        "mitoonim dota matrix ro dar ham zarb konim."
      ],
      "metadata": {
        "id": "CbLGG5NTVA0Q"
      }
    },
    {
      "cell_type": "code",
      "source": [
        "new = tf.constant([[1, 2, 3],\n",
        "                   [3, 4, 3]])\n",
        "new_2 = tf.constant([[1, 2],\n",
        "                     [3, 4],\n",
        "                     [10, 20]])"
      ],
      "metadata": {
        "id": "mdChwaIqVLfV"
      },
      "execution_count": null,
      "outputs": []
    },
    {
      "cell_type": "code",
      "source": [
        "answer = tf.matmul(new, new_2)"
      ],
      "metadata": {
        "id": "gO2HcGW8VR6H"
      },
      "execution_count": null,
      "outputs": []
    },
    {
      "cell_type": "code",
      "source": [
        "answer"
      ],
      "metadata": {
        "colab": {
          "base_uri": "https://localhost:8080/"
        },
        "id": "N5rO-DAvWRSJ",
        "outputId": "8195936e-1569-434e-830d-df1e1721fa1a"
      },
      "execution_count": null,
      "outputs": [
        {
          "output_type": "execute_result",
          "data": {
            "text/plain": [
              "<tf.Tensor: shape=(2, 2), dtype=int32, numpy=\n",
              "array([[37, 70],\n",
              "       [45, 82]], dtype=int32)>"
            ]
          },
          "metadata": {},
          "execution_count": 64
        }
      ]
    },
    {
      "cell_type": "code",
      "source": [
        "answer.ndim"
      ],
      "metadata": {
        "colab": {
          "base_uri": "https://localhost:8080/"
        },
        "id": "F8sE8mxRVWZL",
        "outputId": "32650c06-b6f1-43b3-92fd-7aa5ff600347"
      },
      "execution_count": null,
      "outputs": [
        {
          "output_type": "execute_result",
          "data": {
            "text/plain": [
              "2"
            ]
          },
          "metadata": {},
          "execution_count": 63
        }
      ]
    },
    {
      "cell_type": "code",
      "source": [
        "new"
      ],
      "metadata": {
        "colab": {
          "base_uri": "https://localhost:8080/"
        },
        "id": "vKMHTE9KZjXO",
        "outputId": "91508bc4-201c-4ea5-f562-10f9489e6496"
      },
      "execution_count": null,
      "outputs": [
        {
          "output_type": "execute_result",
          "data": {
            "text/plain": [
              "<tf.Tensor: shape=(2, 3), dtype=int32, numpy=\n",
              "array([[1, 2, 3],\n",
              "       [3, 4, 3]], dtype=int32)>"
            ]
          },
          "metadata": {},
          "execution_count": 83
        }
      ]
    },
    {
      "cell_type": "code",
      "source": [
        "tf.transpose(new)"
      ],
      "metadata": {
        "colab": {
          "base_uri": "https://localhost:8080/"
        },
        "id": "XPVUqhGvZJoe",
        "outputId": "a3f0d82d-60e3-442d-89db-10ff3ddfdfd5"
      },
      "execution_count": null,
      "outputs": [
        {
          "output_type": "execute_result",
          "data": {
            "text/plain": [
              "<tf.Tensor: shape=(3, 2), dtype=int32, numpy=\n",
              "array([[1, 3],\n",
              "       [2, 4],\n",
              "       [3, 3]], dtype=int32)>"
            ]
          },
          "metadata": {},
          "execution_count": 81
        }
      ]
    },
    {
      "cell_type": "code",
      "source": [
        "# az transpose estefade konam va matrix ro dakhele transpose esh zarb konam\n",
        "tf.matmul(new, tf.transpose(new))"
      ],
      "metadata": {
        "colab": {
          "base_uri": "https://localhost:8080/"
        },
        "id": "lJXYGZ16Y_cu",
        "outputId": "8ad6f859-495c-439b-c821-dc8f13010603"
      },
      "execution_count": null,
      "outputs": [
        {
          "output_type": "execute_result",
          "data": {
            "text/plain": [
              "<tf.Tensor: shape=(2, 2), dtype=int32, numpy=\n",
              "array([[14, 20],\n",
              "       [20, 34]], dtype=int32)>"
            ]
          },
          "metadata": {},
          "execution_count": 82
        }
      ]
    },
    {
      "cell_type": "markdown",
      "source": [
        "# tf.reshape(shape)"
      ],
      "metadata": {
        "id": "zXnuSGWkW5OP"
      }
    },
    {
      "cell_type": "code",
      "source": [
        "example = np.arange(20)\n",
        "example"
      ],
      "metadata": {
        "colab": {
          "base_uri": "https://localhost:8080/"
        },
        "id": "VuvWc7ZsXIp-",
        "outputId": "b1741e36-92df-4884-d122-60ae8802b22e"
      },
      "execution_count": null,
      "outputs": [
        {
          "output_type": "execute_result",
          "data": {
            "text/plain": [
              "array([ 0,  1,  2,  3,  4,  5,  6,  7,  8,  9, 10, 11, 12, 13, 14, 15, 16,\n",
              "       17, 18, 19])"
            ]
          },
          "metadata": {},
          "execution_count": 66
        }
      ]
    },
    {
      "cell_type": "code",
      "source": [
        "my_answer = tf.reshape(example, shape=(2, 2, 5))"
      ],
      "metadata": {
        "id": "Tbtlq9G5XNJW"
      },
      "execution_count": null,
      "outputs": []
    },
    {
      "cell_type": "code",
      "source": [
        "my_answer"
      ],
      "metadata": {
        "colab": {
          "base_uri": "https://localhost:8080/"
        },
        "id": "ISz8MqYTXjLl",
        "outputId": "86dc1243-5088-4061-82b9-c42f3502e9c1"
      },
      "execution_count": null,
      "outputs": [
        {
          "output_type": "execute_result",
          "data": {
            "text/plain": [
              "<tf.Tensor: shape=(2, 2, 5), dtype=int64, numpy=\n",
              "array([[[ 0,  1,  2,  3,  4],\n",
              "        [ 5,  6,  7,  8,  9]],\n",
              "\n",
              "       [[10, 11, 12, 13, 14],\n",
              "        [15, 16, 17, 18, 19]]])>"
            ]
          },
          "metadata": {},
          "execution_count": 78
        }
      ]
    },
    {
      "cell_type": "markdown",
      "source": [
        "# tf.tensordot(a, b)"
      ],
      "metadata": {
        "id": "o9krmC4CYT-E"
      }
    },
    {
      "cell_type": "code",
      "source": [
        "matrix_a = tf.constant([[10, 11, 12, 13, 14],\n",
        "                        [15, 16, 17, 18, 19]])\n",
        "\n",
        "matrix_b = tf.constant([[ 0,  1,  2,  3,  4],\n",
        "                        [ 5,  6,  7,  8,  9]])"
      ],
      "metadata": {
        "id": "eGiHuv8BaaYg"
      },
      "execution_count": null,
      "outputs": []
    },
    {
      "cell_type": "code",
      "source": [
        "matrix_a = tf.constant([[10, 11, 12, 13, 14],\n",
        "                        [15, 16, 17, 18, 19]])\n",
        "\n",
        "matrix_b = tf.constant([[ 0,  1,  2,  3,  4],\n",
        "                        [ 5,  6,  7,  8,  9]])\n",
        "\n",
        "result = tf.tensordot(matrix_a, tf.transpose(matrix_b))\n",
        "\n",
        "print(result)"
      ],
      "metadata": {
        "colab": {
          "base_uri": "https://localhost:8080/"
        },
        "id": "xcgVRR1laib3",
        "outputId": "36a58008-e36e-4bb1-951c-0d28875592aa"
      },
      "execution_count": null,
      "outputs": [
        {
          "output_type": "stream",
          "name": "stdout",
          "text": [
            "tf.Tensor(\n",
            "[[130 430]\n",
            " [180 605]], shape=(2, 2), dtype=int32)\n"
          ]
        }
      ]
    },
    {
      "cell_type": "code",
      "source": [],
      "metadata": {
        "id": "sKuuoBfUcXH7"
      },
      "execution_count": null,
      "outputs": []
    }
  ]
}